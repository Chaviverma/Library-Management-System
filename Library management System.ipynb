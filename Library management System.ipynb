{
 "cells": [
  {
   "cell_type": "code",
   "execution_count": 6,
   "id": "1feaa7a5-fadd-43a2-8b14-93fe592bb071",
   "metadata": {},
   "outputs": [
    {
     "name": "stdout",
     "output_type": "stream",
     "text": [
      "WELCOME TO THE LIBRARY MANAGEMENT SYSTEM/n\n"
     ]
    },
    {
     "name": "stdin",
     "output_type": "stream",
     "text": [
      "Enter username:  admin\n",
      "Enter password:  admin123\n"
     ]
    },
    {
     "name": "stdout",
     "output_type": "stream",
     "text": [
      "\n",
      "Login successful! Welcome, admin.\n",
      "\n",
      "\n",
      "====== Library Menu ======\n",
      "1. View Books\n",
      "2. Add a Book\n",
      "3. Issue a Book\n",
      "4. Return a Book\n",
      "5. View Issued Books\n",
      "6. Exit\n"
     ]
    },
    {
     "name": "stdin",
     "output_type": "stream",
     "text": [
      "Choose an option (1-6):  1\n"
     ]
    },
    {
     "name": "stdout",
     "output_type": "stream",
     "text": [
      "\n",
      "List of Books:\n",
      "Title: Python Basics, Author: Test, Status: Available\n",
      "Title: Data Science, Author: Test1, Status: Issued to Alice\n",
      "\n",
      "\n",
      "====== Library Menu ======\n",
      "1. View Books\n",
      "2. Add a Book\n",
      "3. Issue a Book\n",
      "4. Return a Book\n",
      "5. View Issued Books\n",
      "6. Exit\n"
     ]
    },
    {
     "name": "stdin",
     "output_type": "stream",
     "text": [
      "Choose an option (1-6):  2\n",
      "Enter book title:  English\n",
      "Enter author name:  Test2\n"
     ]
    },
    {
     "name": "stdout",
     "output_type": "stream",
     "text": [
      "Book added successfully!\n",
      "\n",
      "\n",
      "====== Library Menu ======\n",
      "1. View Books\n",
      "2. Add a Book\n",
      "3. Issue a Book\n",
      "4. Return a Book\n",
      "5. View Issued Books\n",
      "6. Exit\n"
     ]
    },
    {
     "name": "stdin",
     "output_type": "stream",
     "text": [
      "Choose an option (1-6):  3\n",
      "Enter the title of the book to issue:  Python Basics\n",
      "Enter name of person issuing the book:  chavi\n"
     ]
    },
    {
     "name": "stdout",
     "output_type": "stream",
     "text": [
      "Book 'Python Basics' has been issued to chavi.\n",
      "\n",
      "\n",
      "====== Library Menu ======\n",
      "1. View Books\n",
      "2. Add a Book\n",
      "3. Issue a Book\n",
      "4. Return a Book\n",
      "5. View Issued Books\n",
      "6. Exit\n"
     ]
    },
    {
     "name": "stdin",
     "output_type": "stream",
     "text": [
      "Choose an option (1-6):  5\n"
     ]
    },
    {
     "name": "stdout",
     "output_type": "stream",
     "text": [
      "\n",
      "Issued Books:\n",
      "Title: Python Basics, Issued to: chavi\n",
      "Title: Data Science, Issued to: Alice\n",
      "\n",
      "\n",
      "====== Library Menu ======\n",
      "1. View Books\n",
      "2. Add a Book\n",
      "3. Issue a Book\n",
      "4. Return a Book\n",
      "5. View Issued Books\n",
      "6. Exit\n"
     ]
    },
    {
     "name": "stdin",
     "output_type": "stream",
     "text": [
      "Choose an option (1-6):  1\n"
     ]
    },
    {
     "name": "stdout",
     "output_type": "stream",
     "text": [
      "\n",
      "List of Books:\n",
      "Title: Python Basics, Author: Test, Status: Issued to chavi\n",
      "Title: Data Science, Author: Test1, Status: Issued to Alice\n",
      "Title: English, Author: Test2, Status: Available\n",
      "\n",
      "\n",
      "====== Library Menu ======\n",
      "1. View Books\n",
      "2. Add a Book\n",
      "3. Issue a Book\n",
      "4. Return a Book\n",
      "5. View Issued Books\n",
      "6. Exit\n"
     ]
    },
    {
     "name": "stdin",
     "output_type": "stream",
     "text": [
      "Choose an option (1-6):  6\n"
     ]
    },
    {
     "name": "stdout",
     "output_type": "stream",
     "text": [
      "Thank you for using the Library Management System !\n"
     ]
    }
   ],
   "source": [
    "#Step 1: Basic Structure\n",
    "print(\"WELCOME TO THE LIBRARY MANAGEMENT SYSTEM/n\" )\n",
    "\n",
    "library = {\n",
    "    \"Python Basics\": {\"author\": \"Test\", \"available\": True, \"issued_to\": None},\n",
    "    \"Data Science\": {\"author\": \"Test1\", \"available\": False, \"issued_to\": \"Alice\"}\n",
    "}\n",
    "\n",
    "# Display all books\n",
    "def display_books():\n",
    "    print(\"\\nList of Books:\")\n",
    "    for title, details in library.items():\n",
    "        status = \"Available\" if details[\"available\"] else f\"Issued to {details['issued_to']}\"\n",
    "        print(f\"Title: {title}, Author: {details['author']}, Status: {status}\")\n",
    "    print()\n",
    "\n",
    "#Step 2: Add a book\n",
    "def add_book():\n",
    "    title = input(\"Enter book title: \")\n",
    "    author = input(\"Enter author name: \")\n",
    "    if title in library:\n",
    "        print(\"Book already exists in the system.\\n\")\n",
    "    else:\n",
    "        library[title] = {\"author\": author, \"available\": True, \"issued_to\": None}\n",
    "        print(\"Book added successfully!\\n\")\n",
    "\n",
    "#Step 3: Issue a book\n",
    "def issue_book():\n",
    "    title = input(\"Enter the title of the book to issue: \")\n",
    "    if title in library:\n",
    "        if library[title][\"available\"]:\n",
    "            user_name = input(\"Enter name of person issuing the book: \")\n",
    "            library[title][\"available\"] = False\n",
    "            library[title][\"issued_to\"] = user_name\n",
    "            print(f\"Book '{title}' has been issued to {user_name}.\\n\")\n",
    "        else:\n",
    "            print(f\"Book is currently issued to {library[title]['issued_to']}.\\n\")\n",
    "    else:\n",
    "        print(\"Book not found in library.\\n\")\n",
    "\n",
    "#Step 4: Return a book\n",
    "def return_book():\n",
    "    title = input(\"Enter the title of the book to return: \")\n",
    "    if title in library:\n",
    "        if not library[title][\"available\"]:\n",
    "            library[title][\"available\"] = True\n",
    "            library[title][\"issued_to\"] = None\n",
    "            print(f\"Book '{title}' has been returned successfully.\\n\")\n",
    "        else:\n",
    "            print(\"Book is not issued to anyone.\\n\")\n",
    "    else:\n",
    "        print(\"Book not found in library.\\n\")\n",
    "\n",
    "# Step 5: Login System\n",
    "credentials = {\"admin\": \"admin123\", \"librarian\": \"lib123\"}\n",
    "\n",
    "def login():\n",
    "    attempts = 3\n",
    "    while attempts > 0:\n",
    "        username = input(\"Enter username: \")\n",
    "        password = input(\"Enter password: \")\n",
    "        if username in credentials and credentials[username] == password:\n",
    "            print(f\"\\nLogin successful! Welcome, {username}.\\n\")\n",
    "            return True\n",
    "        else:\n",
    "            attempts -= 1\n",
    "            print(f\"Invalid credentials. {attempts} attempts left.\\n\")\n",
    "    print(\"Too many failed attempts. Exiting.\")\n",
    "    return False\n",
    "\n",
    "#Step 6: View Issued Books\n",
    "def view_issued_books():\n",
    "    print(\"\\nIssued Books:\")\n",
    "    found = False\n",
    "    for title, details in library.items():\n",
    "        if not details[\"available\"]:\n",
    "            print(f\"Title: {title}, Issued to: {details['issued_to']}\")\n",
    "            found = True\n",
    "    if not found:\n",
    "        print(\"No books are currently issued.\")\n",
    "    print()\n",
    "\n",
    "#Step 7: Main Menu\n",
    "def main():\n",
    "    if not login():\n",
    "        return\n",
    "    while True:\n",
    "        print(\"Library Menu:\")\n",
    "        print(\"1. View Books\")\n",
    "        print(\"2. Add a Book\")\n",
    "        print(\"3. Issue a Book\")\n",
    "        print(\"4. Return a Book\")\n",
    "        print(\"5. View Issued Books\")\n",
    "        print(\"6. Exit\")\n",
    "        choice = input(\"Enter your choice (1-6): \")\n",
    "\n",
    "        if choice == '1':\n",
    "            display_books()\n",
    "        elif choice == '2':\n",
    "            add_book()\n",
    "        elif choice == '3':\n",
    "            issue_book()\n",
    "        elif choice == '4':\n",
    "            return_book()\n",
    "        elif choice == '5':\n",
    "            view_issued_books()\n",
    "        elif choice == '6':\n",
    "            print(\"Exiting the system. Goodbye!\")\n",
    "            break\n",
    "        else:\n",
    "            print(\"Invalid choice. Please try again.\\n\")\n",
    "\n",
    "# Run the program\n",
    "def main_menu():\n",
    "    while True:\n",
    "        print(\"\\n====== Library Menu ======\")\n",
    "        print(\"1. View Books\")\n",
    "        print(\"2. Add a Book\")\n",
    "        print(\"3. Issue a Book\")\n",
    "        print(\"4. Return a Book\")\n",
    "        print(\"5. View Issued Books\")\n",
    "        print(\"6. Exit\")\n",
    "\n",
    "        choice = input(\"Choose an option (1-6): \")\n",
    "\n",
    "        if choice == \"1\":\n",
    "            display_books()\n",
    "        elif choice == \"2\":\n",
    "            add_book()\n",
    "        elif choice == \"3\":\n",
    "            issue_book()\n",
    "        elif choice == \"4\":\n",
    "            return_book()\n",
    "        elif choice == \"5\":\n",
    "            view_issued_books()\n",
    "        elif choice == \"6\":\n",
    "            print(\"Thank you for using the Library Management System !\")\n",
    "            break\n",
    "        else:\n",
    "            print(\"Invalid choice. Please try again.\")\n",
    "if __name__ == \"__main__\":\n",
    "    if login():\n",
    "        main_menu()\n"
   ]
  },
  {
   "cell_type": "code",
   "execution_count": null,
   "id": "406bd300-f492-4aa8-965f-7a0e571e7549",
   "metadata": {},
   "outputs": [],
   "source": []
  }
 ],
 "metadata": {
  "kernelspec": {
   "display_name": "Python 3 (ipykernel)",
   "language": "python",
   "name": "python3"
  },
  "language_info": {
   "codemirror_mode": {
    "name": "ipython",
    "version": 3
   },
   "file_extension": ".py",
   "mimetype": "text/x-python",
   "name": "python",
   "nbconvert_exporter": "python",
   "pygments_lexer": "ipython3",
   "version": "3.12.7"
  }
 },
 "nbformat": 4,
 "nbformat_minor": 5
}
